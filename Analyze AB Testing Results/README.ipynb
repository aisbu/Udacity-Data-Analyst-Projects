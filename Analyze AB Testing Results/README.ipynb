{
 "cells": [
  {
   "cell_type": "markdown",
   "metadata": {},
   "source": [
    "#  Analyze-A-B-Test-Results\n",
    "## by Ayse Isin Budak\n",
    "***\n",
    " I worked to understand the results of an A/B test run by an e-commerce website. The company has developed a new web page in order to try and increase the number of users who \"convert,\" meaning the number of users who decide to pay for the company's product. My goal was to help the company understand if they should implement this new page, keep the old page, or perhaps run the experiment longer to make their decision.\n",
    "\n",
    "\n",
    "\n",
    "## Main Findings\n",
    "***\n",
    "\n",
    "1) We accept the Null Hypothesis and Reject the Alternate Hypothesis. The null hypothesis says that the conversion rate of the old page is bigger than or equal to the new page.\n",
    "2) Logistic regression model also doesn't show performance changes converted performance between the old and new page.\n",
    "3) There is no strong evidence that the countries influence the conversion rate.\n",
    "\n"
   ]
  }
 ],
 "metadata": {
  "kernelspec": {
   "display_name": "Python 3",
   "language": "python",
   "name": "python3"
  },
  "language_info": {
   "codemirror_mode": {
    "name": "ipython",
    "version": 3
   },
   "file_extension": ".py",
   "mimetype": "text/x-python",
   "name": "python",
   "nbconvert_exporter": "python",
   "pygments_lexer": "ipython3",
   "version": "3.7.4"
  }
 },
 "nbformat": 4,
 "nbformat_minor": 2
}
