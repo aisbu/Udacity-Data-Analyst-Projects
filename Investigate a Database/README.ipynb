{
 "cells": [
  {
   "cell_type": "markdown",
   "metadata": {},
   "source": [
    "# Investigating TMDB Dataset \n",
    "\n",
    "\n",
    "#### Introduction\n",
    "***\n",
    "\n",
    "In this report, TMDB Movies dataset will be analyzed.\n",
    "This data set contains information about 10 thousand movies collected from The IMDb, including user ratings and revenue. It consists of 21 columns, but I will be limiting colummns to focus on popularity, budget, and vote count. \n",
    "\n",
    "\n",
    "Libraries installed for the analysis:\n",
    "\n",
    "- datetime\n",
    "- Matplotlib\n",
    "- NumPy\n",
    "- pandas\n",
    "- seaborn\n",
    "\n",
    "#### **Question that can be analyzed from this data set**\n",
    "---\n",
    "- Which companies produce the most popular movies?\n",
    "\n",
    "- Is there any relationship between popularity and budget adj if so how?\n",
    "\n",
    "- Is there any relationship between popularity and mean budget_adj, and vote count?"
   ]
  },
  {
   "cell_type": "code",
   "execution_count": null,
   "metadata": {},
   "outputs": [],
   "source": []
  }
 ],
 "metadata": {
  "kernelspec": {
   "display_name": "Python 3",
   "language": "python",
   "name": "python3"
  },
  "language_info": {
   "codemirror_mode": {
    "name": "ipython",
    "version": 3
   },
   "file_extension": ".py",
   "mimetype": "text/x-python",
   "name": "python",
   "nbconvert_exporter": "python",
   "pygments_lexer": "ipython3",
   "version": "3.7.4"
  }
 },
 "nbformat": 4,
 "nbformat_minor": 2
}
