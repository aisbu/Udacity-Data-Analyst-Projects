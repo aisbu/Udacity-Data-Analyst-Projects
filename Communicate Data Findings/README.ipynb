{
 "cells": [
  {
   "cell_type": "markdown",
   "metadata": {},
   "source": [
    "\n",
    "\n",
    "# Pisa Dataset Exploration\n",
    "## by Ayse Isin Budak\n",
    " \n",
    " \n",
    "## Introduction\n",
    "***\n",
    "This project is completed under Udacity Data Analyst Nanodegree program and focused on performing an exploratory data analysis and creating visualizations using seaborn & matplotlib.\n",
    " \n",
    "PISA 2012 results will be analyzed in this notebook. PISA is a \"survey of students' skills and knowledge as they approach the end of compulsory education.\n",
    " \n",
    "Throughout the course of my project I  questioned average scores, general mood of students, presence of parents, relationship/correlation among scores, presence of parents and general mood of students.\n",
    " \n",
    " \n",
    " \n",
    "## Dataset\n",
    "***\n",
    "This dataset includes 635  columns, I will be limiting my exploration on scores, the general mood of students, and presence of parents. I limited my dataset to dimensions & measures listed below:\n",
    " \n",
    "- Student Id \n",
    "- Math Score\n",
    "- Reading Score\n",
    "- Science Score\n",
    "- Mother Present\n",
    "- Father Present\n",
    "- Feel Like Outsider\n",
    "- Feel Lonely at School\n",
    "- Feel Happy at School\n",
    " \n",
    " \n",
    " \n",
    " \n",
    " \n",
    " \n",
    "## Summary of Findings\n",
    "***\n",
    " \n",
    "- Test scores for all the fields are normally distributed centering around 500.\n",
    "- 277.8k students' both parents are present. %17.4 of the students either have a single parent or none of the parents is present.\n",
    "- It is observed that the loss of a parent has a negative effect on scores. The average score distribution of students who lost both parents is the lowest and lower scores are consistent over different subjects.\n",
    "-  Variability in average scores is highest when only father is present. \n",
    "- Students mostly strongly disagrees to feel like an outsider and feel lonely.\n",
    "- Most of the students agree on feeling happy at school.\n",
    "- Feeling outsider and feeling lonely has a negative but insignificant correlation with scores.\n",
    "- Students who strongly disagrees and who strongly agrees to feel happy at school has lower scores. \n",
    "- We observed that out of 276K students, most of the students agrees to feel happy at school and more than 60K of them scores between 450 and 550.\n",
    "- We understand student who feels lonelier and outsider has lower average scores regardless of the presence of parents. Also, the loss of a parent has a negative effect on average results. Which was also observed above.\n",
    " \n",
    " \n",
    " \n",
    "## Key Insight for  the Presentation\n",
    "***\n",
    "Using the findings, I summarized above, I tried to highlight the following findings in my presentation:\n",
    " \n",
    "- Student who has both parents present are the most successful on average. Average scores in decreasing order: Both parents are present, only mother present, only father present, none of the parents is present.\n",
    "- Students who have felt lonelier or feel more like an outsider has lower grades. However, there is no direct correlation found with average grades and how happy they feel.\n",
    " \n",
    "--\n"
   ]
  },
  {
   "cell_type": "code",
   "execution_count": null,
   "metadata": {},
   "outputs": [],
   "source": []
  }
 ],
 "metadata": {
  "kernelspec": {
   "display_name": "Python 3",
   "language": "python",
   "name": "python3"
  },
  "language_info": {
   "codemirror_mode": {
    "name": "ipython",
    "version": 3
   },
   "file_extension": ".py",
   "mimetype": "text/x-python",
   "name": "python",
   "nbconvert_exporter": "python",
   "pygments_lexer": "ipython3",
   "version": "3.7.4"
  }
 },
 "nbformat": 4,
 "nbformat_minor": 2
}
